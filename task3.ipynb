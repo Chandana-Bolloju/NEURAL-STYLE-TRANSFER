import numpy as np
import tensorflow as tf
from tensorflow.keras.preprocessing.image import load_img, img_to_array
import matplotlib.pyplot as plt
import os

# ========== 1. FIRST UPLOAD IMAGES ==========
from google.colab import files

def upload_images():
    print("Upload CONTENT image (your photo):")
    content_path = list(files.upload().keys())[0]

    print("\nUpload STYLE image (artwork):")
    style_path = list(files.upload().keys())[0]

    return content_path, style_path

content_path, style_path = upload_images()

# ========== 2. THEN LOAD AND DISPLAY ==========
def load_and_display(content_path, style_path, height=360, width=480):
    # Load images
    content_img = img_to_array(load_img(content_path, target_size=(height, width)))[..., :3]
    style_img = img_to_array(load_img(style_path, target_size=(height, width)))[..., :3]

    # Display
    plt.figure(figsize=(10, 5))
    plt.subplot(1, 2, 1)
    plt.imshow(content_img/255.0)  # Normalize to [0,1]
    plt.title("Content Image")
    plt.axis('off')

    plt.subplot(1, 2, 2)
    plt.imshow(style_img/255.0)
    plt.title("Style Image")
    plt.axis('off')
    plt.show()

    return content_img, style_img

# Now properly load and display
content_img, style_img = load_and_display(content_path, style_path)
